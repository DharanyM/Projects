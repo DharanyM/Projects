{
 "cells": [
  {
   "cell_type": "code",
   "execution_count": 18,
   "id": "89bdb53e",
   "metadata": {},
   "outputs": [],
   "source": [
    "from tensorflow.keras.preprocessing.image import ImageDataGenerator\n",
    "\n"
   ]
  },
  {
   "cell_type": "code",
   "execution_count": 19,
   "id": "1ea8f364",
   "metadata": {},
   "outputs": [],
   "source": [
    "train_datagen = ImageDataGenerator(rescale=1./255,\n",
    "                                   zoom_range=0.2,\n",
    "                                   horizontal_flip=True)"
   ]
  },
  {
   "cell_type": "code",
   "execution_count": 20,
   "id": "d0df322e",
   "metadata": {},
   "outputs": [],
   "source": [
    "test_datagen = ImageDataGenerator(rescale=1./255)\n"
   ]
  },
  {
   "cell_type": "code",
   "execution_count": 21,
   "id": "62844a41",
   "metadata": {},
   "outputs": [
    {
     "name": "stdout",
     "output_type": "stream",
     "text": [
      "Found 6385 images belonging to 2 classes.\n"
     ]
    }
   ],
   "source": [
    "xtrain = train_datagen.flow_from_directory('Training',\n",
    "                                           target_size=(64,64),\n",
    "                                           class_mode='categorical',\n",
    "                                           batch_size=200)\n"
   ]
  },
  {
   "cell_type": "code",
   "execution_count": 22,
   "id": "3a04323b",
   "metadata": {},
   "outputs": [
    {
     "name": "stdout",
     "output_type": "stream",
     "text": [
      "Found 1829 images belonging to 2 classes.\n"
     ]
    }
   ],
   "source": [
    "xtest = test_datagen.flow_from_directory('Testing',\n",
    "                                         target_size=(64,64),\n",
    "                                         class_mode='categorical',\n",
    "                                         batch_size=200)\n"
   ]
  },
  {
   "cell_type": "code",
   "execution_count": 23,
   "id": "f1509386",
   "metadata": {},
   "outputs": [],
   "source": [
    "from tensorflow.keras.models import Sequential\n",
    "from tensorflow.keras.layers import Conv2D, MaxPooling2D, Flatten, Dense, Dropout\n"
   ]
  },
  {
   "cell_type": "code",
   "execution_count": 24,
   "id": "0a9a3566",
   "metadata": {},
   "outputs": [],
   "source": [
    "model = Sequential() # Initializing sequential model\n",
    "model.add(Conv2D(32,(3,3),activation='relu',input_shape=(64,64,3))) # convolution layer\n",
    "model.add(Conv2D(32,(3,3),activation='relu')) # convolution layer\n",
    "model.add(MaxPooling2D(pool_size=(2, 2))) # Max pooling layer\n",
    "model.add(Dropout(0.25)) # Dropout layer\n"
   ]
  },
  {
   "cell_type": "code",
   "execution_count": 25,
   "id": "139b9993",
   "metadata": {},
   "outputs": [],
   "source": [
    "model.add(Conv2D(64,(3,3),activation='relu')) # convolution layer\n",
    "model.add(Conv2D(64,(3,3),activation='relu')) # convolution layer\n",
    "model.add(MaxPooling2D(pool_size=(2, 2))) # Max pooling layer\n",
    "model.add(Dropout(0.25)) # Dropout layer\n"
   ]
  },
  {
   "cell_type": "code",
   "execution_count": 26,
   "id": "4e9536b2",
   "metadata": {},
   "outputs": [],
   "source": [
    "model.add(Conv2D(128,(3,3),activation='relu')) # convolution layer\n",
    "model.add(Conv2D(128,(3,3),activation='relu')) # convolution layer\n",
    "model.add(MaxPooling2D(pool_size=(2, 2))) # Max pooling layer\n",
    "model.add(Dropout(0.25)) # Dropout layer\n"
   ]
  },
  {
   "cell_type": "code",
   "execution_count": 27,
   "id": "2ca3162c",
   "metadata": {},
   "outputs": [],
   "source": [
    "model.add(Flatten()) # Flatten layer\n",
    "model.add(Dense(512,activation='relu')) # Hidden layer 1\n",
    "model.add(Dropout(0.5)) # Dropout layer\n",
    "model.add(Dense(2,activation='softmax'))\n"
   ]
  },
  {
   "cell_type": "code",
   "execution_count": 28,
   "id": "b1450785",
   "metadata": {},
   "outputs": [
    {
     "name": "stdout",
     "output_type": "stream",
     "text": [
      "Model: \"sequential_1\"\n",
      "_________________________________________________________________\n",
      " Layer (type)                Output Shape              Param #   \n",
      "=================================================================\n",
      " conv2d_6 (Conv2D)           (None, 62, 62, 32)        896       \n",
      "                                                                 \n",
      " conv2d_7 (Conv2D)           (None, 60, 60, 32)        9248      \n",
      "                                                                 \n",
      " max_pooling2d_3 (MaxPooling  (None, 30, 30, 32)       0         \n",
      " 2D)                                                             \n",
      "                                                                 \n",
      " dropout_4 (Dropout)         (None, 30, 30, 32)        0         \n",
      "                                                                 \n",
      " conv2d_8 (Conv2D)           (None, 28, 28, 64)        18496     \n",
      "                                                                 \n",
      " conv2d_9 (Conv2D)           (None, 26, 26, 64)        36928     \n",
      "                                                                 \n",
      " max_pooling2d_4 (MaxPooling  (None, 13, 13, 64)       0         \n",
      " 2D)                                                             \n",
      "                                                                 \n",
      " dropout_5 (Dropout)         (None, 13, 13, 64)        0         \n",
      "                                                                 \n",
      " conv2d_10 (Conv2D)          (None, 11, 11, 128)       73856     \n",
      "                                                                 \n",
      " conv2d_11 (Conv2D)          (None, 9, 9, 128)         147584    \n",
      "                                                                 \n",
      " max_pooling2d_5 (MaxPooling  (None, 4, 4, 128)        0         \n",
      " 2D)                                                             \n",
      "                                                                 \n",
      " dropout_6 (Dropout)         (None, 4, 4, 128)         0         \n",
      "                                                                 \n",
      " flatten_1 (Flatten)         (None, 2048)              0         \n",
      "                                                                 \n",
      " dense_2 (Dense)             (None, 512)               1049088   \n",
      "                                                                 \n",
      " dropout_7 (Dropout)         (None, 512)               0         \n",
      "                                                                 \n",
      " dense_3 (Dense)             (None, 2)                 1026      \n",
      "                                                                 \n",
      "=================================================================\n",
      "Total params: 1,337,122\n",
      "Trainable params: 1,337,122\n",
      "Non-trainable params: 0\n",
      "_________________________________________________________________\n"
     ]
    }
   ],
   "source": [
    "model.compile(optimizer='adam',loss='categorical_crossentropy',metrics=['accuracy'])\n",
    "model.summary()\n"
   ]
  },
  {
   "cell_type": "code",
   "execution_count": 29,
   "id": "eadae236",
   "metadata": {},
   "outputs": [
    {
     "data": {
      "text/plain": [
       "{'Fake1': 0, 'Original': 1}"
      ]
     },
     "execution_count": 29,
     "metadata": {},
     "output_type": "execute_result"
    }
   ],
   "source": [
    "xtrain.class_indices"
   ]
  },
  {
   "cell_type": "code",
   "execution_count": null,
   "id": "7abefeb2",
   "metadata": {},
   "outputs": [
    {
     "name": "stderr",
     "output_type": "stream",
     "text": [
      "C:\\Users\\admin\\AppData\\Local\\Temp\\ipykernel_16636\\905664577.py:9: UserWarning: `Model.fit_generator` is deprecated and will be removed in a future version. Please use `Model.fit`, which supports generators.\n",
      "  r=model.fit_generator(xtrain,steps_per_epoch=len(xtrain),\n"
     ]
    },
    {
     "name": "stdout",
     "output_type": "stream",
     "text": [
      "Epoch 1/100\n",
      "32/32 [==============================] - 113s 3s/step - loss: 0.5630 - accuracy: 0.7729 - val_loss: 0.5102 - val_accuracy: 0.7977 - lr: 0.0010\n",
      "Epoch 2/100\n",
      "32/32 [==============================] - 108s 3s/step - loss: 0.5193 - accuracy: 0.7865 - val_loss: 0.5036 - val_accuracy: 0.7977 - lr: 0.0010\n",
      "Epoch 3/100\n",
      "32/32 [==============================] - 109s 3s/step - loss: 0.5129 - accuracy: 0.7865 - val_loss: 0.4985 - val_accuracy: 0.7977 - lr: 0.0010\n",
      "Epoch 4/100\n",
      "32/32 [==============================] - 110s 3s/step - loss: 0.5155 - accuracy: 0.7865 - val_loss: 0.4966 - val_accuracy: 0.7977 - lr: 0.0010\n",
      "Epoch 5/100\n",
      "32/32 [==============================] - 109s 3s/step - loss: 0.5057 - accuracy: 0.7865 - val_loss: 0.5020 - val_accuracy: 0.7977 - lr: 0.0010\n",
      "Epoch 6/100\n",
      "27/32 [========================>.....] - ETA: 16s - loss: 0.4973 - accuracy: 0.7913"
     ]
    }
   ],
   "source": [
    "from tensorflow.keras.callbacks import EarlyStopping, ReduceLROnPlateau\n",
    "\n",
    "early_stop = EarlyStopping(monitor='val_accuracy', patience=5)\n",
    "\n",
    "lr = ReduceLROnPlateau(monitor='val_accuracy', factor=0.5, min_lr=0.00001)\n",
    "\n",
    "callback = [early_stop,lr]\n",
    "\n",
    "r=model.fit_generator(xtrain,steps_per_epoch=len(xtrain),\n",
    "                    epochs=100,\n",
    "                    callbacks=callback,\n",
    "                    validation_data=xtest,\n",
    "                    validation_steps=len(xtest))\n"
   ]
  },
  {
   "cell_type": "code",
   "execution_count": 14,
   "id": "1531cd8a",
   "metadata": {},
   "outputs": [],
   "source": [
    "model.save('boat.h5')"
   ]
  },
  {
   "cell_type": "code",
   "execution_count": 15,
   "id": "cb018401",
   "metadata": {},
   "outputs": [
    {
     "name": "stdout",
     "output_type": "stream",
     "text": [
      "10/10 [==============================] - 6s 537ms/step\n",
      "              precision    recall  f1-score   support\n",
      "\n",
      "       Fake1       0.80      1.00      0.89      1459\n",
      "    Original       0.00      0.00      0.00       370\n",
      "\n",
      "    accuracy                           0.80      1829\n",
      "   macro avg       0.40      0.50      0.44      1829\n",
      "weighted avg       0.64      0.80      0.71      1829\n",
      "\n"
     ]
    },
    {
     "name": "stderr",
     "output_type": "stream",
     "text": [
      "C:\\Users\\admin\\anaconda3\\lib\\site-packages\\sklearn\\metrics\\_classification.py:1318: UndefinedMetricWarning: Precision and F-score are ill-defined and being set to 0.0 in labels with no predicted samples. Use `zero_division` parameter to control this behavior.\n",
      "  _warn_prf(average, modifier, msg_start, len(result))\n",
      "C:\\Users\\admin\\anaconda3\\lib\\site-packages\\sklearn\\metrics\\_classification.py:1318: UndefinedMetricWarning: Precision and F-score are ill-defined and being set to 0.0 in labels with no predicted samples. Use `zero_division` parameter to control this behavior.\n",
      "  _warn_prf(average, modifier, msg_start, len(result))\n",
      "C:\\Users\\admin\\anaconda3\\lib\\site-packages\\sklearn\\metrics\\_classification.py:1318: UndefinedMetricWarning: Precision and F-score are ill-defined and being set to 0.0 in labels with no predicted samples. Use `zero_division` parameter to control this behavior.\n",
      "  _warn_prf(average, modifier, msg_start, len(result))\n"
     ]
    }
   ],
   "source": [
    "from tensorflow.keras.preprocessing import image\n",
    "import numpy as np\n",
    "from sklearn.metrics import classification_report\n",
    "\n",
    "# predict classes for test set\n",
    "y_pred = model.predict(xtest)\n",
    "y_pred = np.argmax(y_pred, axis=1)\n",
    "\n",
    "# get true classes for test set\n",
    "y_true = xtest.classes\n",
    "\n",
    "# print classification report\n",
    "print(classification_report(y_true, y_pred, target_names=xtest.class_indices.keys()))\n"
   ]
  },
  {
   "cell_type": "code",
   "execution_count": 16,
   "id": "fc6eec46",
   "metadata": {},
   "outputs": [
    {
     "name": "stdout",
     "output_type": "stream",
     "text": [
      "1/1 [==============================] - 0s 206ms/step\n"
     ]
    },
    {
     "data": {
      "text/plain": [
       "'original'"
      ]
     },
     "execution_count": 16,
     "metadata": {},
     "output_type": "execute_result"
    }
   ],
   "source": [
    "import matplotlib.pyplot as plt\n",
    "img = image.load_img('test.jpg',target_size=(64,64)) # Reading image\n",
    "plt.show('/Downloads/test.jpg')\n",
    "x = image.img_to_array(img) # Converting image into array\n",
    "x = np.expand_dims(x,axis=0)# expanding Dimensions\n",
    "pred = np.argmax(model.predict(x)) # Predicting the higher probablity index\n",
    "op = ['original','fake'] # Creating list\n",
    "op[pred] # List indexing with output"
   ]
  },
  {
   "cell_type": "code",
   "execution_count": 17,
   "id": "0189f674",
   "metadata": {},
   "outputs": [
    {
     "name": "stdout",
     "output_type": "stream",
     "text": [
      "1/1 [==============================] - 0s 38ms/step\n"
     ]
    },
    {
     "data": {
      "text/plain": [
       "'original'"
      ]
     },
     "execution_count": 17,
     "metadata": {},
     "output_type": "execute_result"
    }
   ],
   "source": [
    "img = image.load_img('Training/Fake1/2(168).png',target_size=(64,64)) # Reading image\n",
    "x = image.img_to_array(img) # Converting image into array\n",
    "x = np.expand_dims(x,axis=0) # expanding Dimensions\n",
    "pred = np.argmax(model.predict(x)) # Predicting the higher probablity index\n",
    "op = ['original','fake'] # Creating list\n",
    "op[pred] # List indexing with output"
   ]
  },
  {
   "cell_type": "code",
   "execution_count": null,
   "id": "371dcf34",
   "metadata": {},
   "outputs": [],
   "source": []
  }
 ],
 "metadata": {
  "kernelspec": {
   "display_name": "Python 3 (ipykernel)",
   "language": "python",
   "name": "python3"
  },
  "language_info": {
   "codemirror_mode": {
    "name": "ipython",
    "version": 3
   },
   "file_extension": ".py",
   "mimetype": "text/x-python",
   "name": "python",
   "nbconvert_exporter": "python",
   "pygments_lexer": "ipython3",
   "version": "3.9.12"
  }
 },
 "nbformat": 4,
 "nbformat_minor": 5
}
